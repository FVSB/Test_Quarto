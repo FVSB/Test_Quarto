{
 "cells": [
  {
   "cell_type": "code",
   "execution_count": 1,
   "metadata": {},
   "outputs": [
    {
     "name": "stderr",
     "output_type": "stream",
     "text": [
      "<>:26: SyntaxWarning: invalid escape sequence '\\c'\n",
      "<>:26: SyntaxWarning: invalid escape sequence '\\c'\n",
      "C:\\Users\\dell\\AppData\\Local\\Temp\\ipykernel_50332\\3243136351.py:26: SyntaxWarning: invalid escape sequence '\\c'\n",
      "  plt.title('Gráfica de $x \\cdot y = t$ con $t$ tendiendo a 0')\n",
      "C:\\Users\\dell\\AppData\\Local\\Temp\\ipykernel_50332\\3243136351.py:26: SyntaxWarning: invalid escape sequence '\\c'\n",
      "  plt.title('Gráfica de $x \\cdot y = t$ con $t$ tendiendo a 0')\n"
     ]
    },
    {
     "ename": "ModuleNotFoundError",
     "evalue": "No module named 'matplotlib'",
     "output_type": "error",
     "traceback": [
      "\u001b[1;31m---------------------------------------------------------------------------\u001b[0m",
      "\u001b[1;31mModuleNotFoundError\u001b[0m                       Traceback (most recent call last)",
      "Cell \u001b[1;32mIn[1], line 1\u001b[0m\n\u001b[1;32m----> 1\u001b[0m \u001b[38;5;28;01mimport\u001b[39;00m\u001b[38;5;250m \u001b[39m\u001b[38;5;21;01mmatplotlib\u001b[39;00m\u001b[38;5;21;01m.\u001b[39;00m\u001b[38;5;21;01mpyplot\u001b[39;00m\u001b[38;5;250m \u001b[39m\u001b[38;5;28;01mas\u001b[39;00m\u001b[38;5;250m \u001b[39m\u001b[38;5;21;01mplt\u001b[39;00m\n\u001b[0;32m      3\u001b[0m \u001b[38;5;66;03m# Definir una función para calcular y = t / x\u001b[39;00m\n\u001b[0;32m      4\u001b[0m \u001b[38;5;28;01mdef\u001b[39;00m\u001b[38;5;250m \u001b[39m\u001b[38;5;21mcalcular_y\u001b[39m(x, t):\n",
      "\u001b[1;31mModuleNotFoundError\u001b[0m: No module named 'matplotlib'"
     ]
    }
   ],
   "source": [
    "import matplotlib.pyplot as plt\n",
    "\n",
    "# Definir una función para calcular y = t / x\n",
    "def calcular_y(x, t):\n",
    "    return [t / xi for xi in x if xi != 0]  # Evitar división por cero\n",
    "\n",
    "# Definir el rango de valores para x\n",
    "x_positivos = [i / 100 for i in range(1, 1001)]  # Valores positivos de x (0.01 a 10)\n",
    "x_negativos = [-i / 100 for i in range(1, 1001)]  # Valores negativos de x (-0.01 a -10)\n",
    "x = x_negativos[::-1] + x_positivos  # Combinar valores negativos y positivos\n",
    "\n",
    "# Definir valores de t que tienden a 0\n",
    "t_values = [1, 0.5, 0.1, 0.01, 0.001]\n",
    "\n",
    "# Crear la figura\n",
    "plt.figure(figsize=(8, 6))\n",
    "\n",
    "# Graficar para cada valor de t\n",
    "for t in t_values:\n",
    "    y = calcular_y(x, t)  # Calcular y para cada x\n",
    "    plt.plot([xi for xi in x if xi != 0], y, label=f't = {t}')  # Evitar x=0 en el eje x\n",
    "\n",
    "# Configurar el gráfico\n",
    "plt.axhline(0, color='black', linewidth=0.5, linestyle='--')  # Línea horizontal en y=0\n",
    "plt.axvline(0, color='black', linewidth=0.5, linestyle='--')  # Línea vertical en x=0\n",
    "plt.title('Gráfica de $x \\cdot y = t$ con $t$ tendiendo a 0')\n",
    "plt.xlabel('x')\n",
    "plt.ylabel('y')\n",
    "plt.legend()\n",
    "plt.grid(alpha=0.3)\n",
    "\n",
    "# Mostrar el gráfico\n",
    "plt.show()"
   ]
  },
  {
   "cell_type": "code",
   "execution_count": 1,
   "metadata": {},
   "outputs": [
    {
     "name": "stderr",
     "output_type": "stream",
     "text": [
      "<>:22: SyntaxWarning: invalid escape sequence '\\c'\n",
      "<>:22: SyntaxWarning: invalid escape sequence '\\c'\n",
      "C:\\Users\\dell\\AppData\\Local\\Temp\\ipykernel_20984\\1993596938.py:22: SyntaxWarning: invalid escape sequence '\\c'\n",
      "  plt.title('Gráfica de $x \\cdot y = t$ con $t$ tendiendo a 0')\n",
      "C:\\Users\\dell\\AppData\\Local\\Temp\\ipykernel_20984\\1993596938.py:22: SyntaxWarning: invalid escape sequence '\\c'\n",
      "  plt.title('Gráfica de $x \\cdot y = t$ con $t$ tendiendo a 0')\n"
     ]
    },
    {
     "ename": "ModuleNotFoundError",
     "evalue": "No module named 'numpy'",
     "output_type": "error",
     "traceback": [
      "\u001b[1;31m---------------------------------------------------------------------------\u001b[0m",
      "\u001b[1;31mModuleNotFoundError\u001b[0m                       Traceback (most recent call last)",
      "Cell \u001b[1;32mIn[1], line 1\u001b[0m\n\u001b[1;32m----> 1\u001b[0m \u001b[38;5;28;01mimport\u001b[39;00m\u001b[38;5;250m \u001b[39m\u001b[38;5;21;01mnumpy\u001b[39;00m\u001b[38;5;250m \u001b[39m\u001b[38;5;28;01mas\u001b[39;00m\u001b[38;5;250m \u001b[39m\u001b[38;5;21;01mnp\u001b[39;00m\n\u001b[0;32m      2\u001b[0m \u001b[38;5;28;01mimport\u001b[39;00m\u001b[38;5;250m \u001b[39m\u001b[38;5;21;01mmatplotlib\u001b[39;00m\u001b[38;5;21;01m.\u001b[39;00m\u001b[38;5;21;01mpyplot\u001b[39;00m\u001b[38;5;250m \u001b[39m\u001b[38;5;28;01mas\u001b[39;00m\u001b[38;5;250m \u001b[39m\u001b[38;5;21;01mplt\u001b[39;00m\n\u001b[0;32m      4\u001b[0m \u001b[38;5;66;03m# Definir el rango de valores para x\u001b[39;00m\n",
      "\u001b[1;31mModuleNotFoundError\u001b[0m: No module named 'numpy'"
     ]
    }
   ],
   "source": [
    "import numpy as np\n",
    "import matplotlib.pyplot as plt\n",
    "\n",
    "# Definir el rango de valores para x\n",
    "x = np.linspace(-10, 10, 500)\n",
    "x = x[x != 0]  # Evitar división por cero\n",
    "\n",
    "# Definir valores de t que tienden a 0\n",
    "t_values = [1, 0.5, 0.1, 0.01, 0.001]\n",
    "\n",
    "# Crear la figura\n",
    "plt.figure(figsize=(8, 6))\n",
    "\n",
    "# Graficar para cada valor de t\n",
    "for t in t_values:\n",
    "    y = t / x  # Calcular y para cada x\n",
    "    plt.plot(x, y, label=f't = {t}')\n",
    "\n",
    "# Configurar el gráfico\n",
    "plt.axhline(0, color='black', linewidth=0.5, linestyle='--')  # Línea horizontal en y=0\n",
    "plt.axvline(0, color='black', linewidth=0.5, linestyle='--')  # Línea vertical en x=0\n",
    "plt.title('Gráfica de $x \\cdot y = t$ con $t$ tendiendo a 0')\n",
    "plt.xlabel('x')\n",
    "plt.ylabel('y')\n",
    "plt.legend()\n",
    "plt.grid(alpha=0.3)\n",
    "\n",
    "# Mostrar el gráfico\n",
    "plt.show()"
   ]
  },
  {
   "cell_type": "code",
   "execution_count": null,
   "metadata": {},
   "outputs": [],
   "source": []
  }
 ],
 "metadata": {
  "kernelspec": {
   "display_name": "venv",
   "language": "python",
   "name": "python3"
  },
  "language_info": {
   "codemirror_mode": {
    "name": "ipython",
    "version": 3
   },
   "file_extension": ".py",
   "mimetype": "text/x-python",
   "name": "python",
   "nbconvert_exporter": "python",
   "pygments_lexer": "ipython3",
   "version": "3.12.6"
  }
 },
 "nbformat": 4,
 "nbformat_minor": 2
}
